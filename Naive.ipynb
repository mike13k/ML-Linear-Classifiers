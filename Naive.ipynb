{
 "cells": [
  {
   "cell_type": "code",
   "execution_count": null,
   "metadata": {},
   "outputs": [],
   "source": [
    "import numpy as np\n",
    "import matplotlib.pyplot as plt\n",
    "\n",
    "images = []\n",
    "\n",
    "for i in range(2400):\n",
    "    img = plt.imread(\"Train/\" + str((i+1)) + \".jpg\")\n",
    "    pixels = []\n",
    "    for j in range(28):\n",
    "        for k in range(28):\n",
    "            pixels.append(img[j,k])\n",
    "    \n",
    "    pixels.append(1)\n",
    "    images.append(pixels)\n",
    "    \n",
    "images = np.asarray(images)\n",
    "print(images.shape)"
   ]
  },
  {
   "cell_type": "code",
   "execution_count": null,
   "metadata": {},
   "outputs": [],
   "source": [
    "imagesT = np.transpose(images)\n",
    "print(imagesT.shape)"
   ]
  },
  {
   "cell_type": "code",
   "execution_count": null,
   "metadata": {},
   "outputs": [],
   "source": [
    "test_images = []\n",
    "\n",
    "for i in range(200):\n",
    "    img = plt.imread(\"Test/\" + str((i+1)) + \".jpg\")\n",
    "    pixels = []\n",
    "    for j in range(28):\n",
    "        for k in range(28):\n",
    "            pixels.append(img[j,k])\n",
    "    \n",
    "    pixels.append(1)\n",
    "    test_images.append(pixels)\n",
    "    \n",
    "test_images = np.asarray(test_images)\n",
    "print(test_images.shape)"
   ]
  },
  {
   "cell_type": "code",
   "execution_count": null,
   "metadata": {},
   "outputs": [],
   "source": [
    "test_imagesT = np.transpose(test_images)\n",
    "print(test_imagesT.shape)"
   ]
  },
  {
   "cell_type": "code",
   "execution_count": null,
   "metadata": {},
   "outputs": [],
   "source": [
    "labels = np.genfromtxt('Test/Test Labels.txt')\n",
    "print(labels)"
   ]
  },
  {
   "cell_type": "code",
   "execution_count": null,
   "metadata": {},
   "outputs": [],
   "source": [
    "t = np.ones((2400,10))\n",
    "t = np.negative(t)\n",
    "for i in range(10):\n",
    "    t[(i*240):((i+1)*240),i:(i+1)] = 1\n",
    "    \n",
    "print(t.shape)"
   ]
  },
  {
   "cell_type": "code",
   "execution_count": null,
   "metadata": {},
   "outputs": [],
   "source": []
  }
 ],
 "metadata": {
  "kernelspec": {
   "display_name": "Python 3",
   "language": "python",
   "name": "python3"
  },
  "language_info": {
   "codemirror_mode": {
    "name": "ipython",
    "version": 3
   },
   "file_extension": ".py",
   "mimetype": "text/x-python",
   "name": "python",
   "nbconvert_exporter": "python",
   "pygments_lexer": "ipython3",
   "version": "3.7.4"
  }
 },
 "nbformat": 4,
 "nbformat_minor": 2
}
