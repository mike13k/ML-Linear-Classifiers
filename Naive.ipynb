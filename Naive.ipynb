{
 "cells": [
  {
   "cell_type": "code",
   "execution_count": 1,
   "metadata": {},
   "outputs": [
    {
     "name": "stdout",
     "output_type": "stream",
     "text": [
      "(2400, 785)\n"
     ]
    }
   ],
   "source": [
    "import numpy as np\n",
    "import matplotlib.pyplot as plt\n",
    "\n",
    "images = []\n",
    "\n",
    "for i in range(2400):\n",
    "    img = plt.imread(\"Train/\" + str((i+1)) + \".jpg\")\n",
    "    pixels = []\n",
    "    for j in range(28):\n",
    "        for k in range(28):\n",
    "            pixels.append(img[j,k])\n",
    "    \n",
    "    pixels.append(1)\n",
    "    images.append(pixels)\n",
    "    \n",
    "images = np.asarray(images)\n",
    "print(images.shape)"
   ]
  },
  {
   "cell_type": "code",
   "execution_count": 2,
   "metadata": {},
   "outputs": [
    {
     "name": "stdout",
     "output_type": "stream",
     "text": [
      "(785, 2400)\n"
     ]
    }
   ],
   "source": [
    "imagesT = np.transpose(images)\n",
    "print(imagesT.shape)"
   ]
  },
  {
   "cell_type": "code",
   "execution_count": 3,
   "metadata": {},
   "outputs": [
    {
     "name": "stdout",
     "output_type": "stream",
     "text": [
      "(200, 785)\n"
     ]
    }
   ],
   "source": [
    "test_images = []\n",
    "\n",
    "for i in range(200):\n",
    "    img = plt.imread(\"Test/\" + str((i+1)) + \".jpg\")\n",
    "    pixels = []\n",
    "    for j in range(28):\n",
    "        for k in range(28):\n",
    "            pixels.append(img[j,k])\n",
    "    \n",
    "    pixels.append(1)\n",
    "    test_images.append(pixels)\n",
    "    \n",
    "test_images = np.asarray(test_images)\n",
    "print(test_images.shape)"
   ]
  },
  {
   "cell_type": "code",
   "execution_count": null,
   "metadata": {},
   "outputs": [],
   "source": [
    "test_imagesT = np.transpose(test_images)\n",
    "print(test_imagesT.shape)"
   ]
  },
  {
   "cell_type": "code",
   "execution_count": null,
   "metadata": {},
   "outputs": [],
   "source": [
    "labels = np.genfromtxt('Test/Test Labels.txt')\n",
    "print(labels)"
   ]
  },
  {
   "cell_type": "code",
   "execution_count": 44,
   "metadata": {},
   "outputs": [
    {
     "name": "stdout",
     "output_type": "stream",
     "text": [
      "(2400, 10)\n"
     ]
    }
   ],
   "source": [
    "t = np.ones((2400,10))\n",
    "t = np.negative(t)\n",
    "for i in range(10):\n",
    "    t[(i*240):((i+1)*240),i:(i+1)] = 1\n",
    "    \n",
    "print(t.shape)"
   ]
  },
  {
   "cell_type": "code",
   "execution_count": 57,
   "metadata": {},
   "outputs": [
    {
     "name": "stdout",
     "output_type": "stream",
     "text": [
      "[[0.21747015 1.         0.         ... 0.         0.         0.        ]\n",
      " [0.17916667 1.         0.         ... 0.         0.         0.        ]\n",
      " [0.07560764 1.         0.         ... 0.         0.         0.        ]\n",
      " ...\n",
      " [0.         0.         0.         ... 0.         0.         1.        ]\n",
      " [0.         0.         0.         ... 0.         0.         1.        ]\n",
      " [0.         0.         0.         ... 0.         0.         1.        ]]\n"
     ]
    }
   ],
   "source": [
    "#Adding mean values for each class with respect to each pixel in the training data\n",
    "means_vector = np.zeros((7840, 11))\n",
    "for k in range(10):  \n",
    "    for i in range(784):\n",
    "        for j in range(240):\n",
    "            means_vector[i*(k+1)][0] += images[j*(k+1)][i]\n",
    "        means_vector[i*(k+1)][0] = means_vector[i*(k+1)][0] / 240\n",
    "        means_vector[784*k:784*(k+1),k+1:k+2] = np.ones((784,1))\n",
    "print(means_vector)"
   ]
  },
  {
   "cell_type": "code",
   "execution_count": 60,
   "metadata": {},
   "outputs": [
    {
     "name": "stdout",
     "output_type": "stream",
     "text": [
      "[[1.44102202 0.         0.         ... 0.         0.         0.        ]\n",
      " [1.08039931 0.         0.         ... 0.         0.         0.        ]\n",
      " [0.55626911 0.         0.         ... 0.         0.         0.        ]\n",
      " ...\n",
      " [0.         0.         0.         ... 0.         0.         0.        ]\n",
      " [0.         0.         0.         ... 0.         0.         0.        ]\n",
      " [0.         0.         0.         ... 0.         0.         0.        ]]\n"
     ]
    }
   ],
   "source": [
    "variance_vector = np.zeros((7840, 11))\n",
    "for k in range(10):\n",
    "    for i in range(784):\n",
    "        for j in range(240):\n",
    "            variance_vector[i*(k+1)][0] += (images[j*(k+1)][i] - means_vector[i*(k+1)][0])**2\n",
    "        variance_vector[i*(k+1)][0] = variance_vector[i*(k+1)][0] / 240\n",
    "        means_vector[784*k:784*(k+1),k+1:k+2] = np.ones((784,1))\n",
    "print(variance_vector)"
   ]
  },
  {
   "cell_type": "code",
   "execution_count": null,
   "metadata": {},
   "outputs": [],
   "source": []
  },
  {
   "cell_type": "code",
   "execution_count": null,
   "metadata": {},
   "outputs": [],
   "source": []
  }
 ],
 "metadata": {
  "kernelspec": {
   "display_name": "Python 3",
   "language": "python",
   "name": "python3"
  },
  "language_info": {
   "codemirror_mode": {
    "name": "ipython",
    "version": 3
   },
   "file_extension": ".py",
   "mimetype": "text/x-python",
   "name": "python",
   "nbconvert_exporter": "python",
   "pygments_lexer": "ipython3",
   "version": "3.6.5"
  }
 },
 "nbformat": 4,
 "nbformat_minor": 2
}
