{
 "cells": [
  {
   "cell_type": "code",
   "execution_count": 1,
   "metadata": {},
   "outputs": [
    {
     "name": "stdout",
     "output_type": "stream",
     "text": [
      "(2400, 785)\n"
     ]
    }
   ],
   "source": [
    "import numpy as np\n",
    "import matplotlib.pyplot as plt\n",
    "import math\n",
    "\n",
    "images = []\n",
    "\n",
    "for i in range(2400):\n",
    "    img = plt.imread(\"Train/\" + str((i+1)) + \".jpg\")\n",
    "    pixels = []\n",
    "    for j in range(28):\n",
    "        for k in range(28):\n",
    "            pixels.append(img[j,k])\n",
    "    \n",
    "    pixels.append(1)\n",
    "    images.append(pixels)\n",
    "    \n",
    "images = np.asarray(images)\n",
    "print(images.shape)"
   ]
  },
  {
   "cell_type": "code",
   "execution_count": 2,
   "metadata": {},
   "outputs": [
    {
     "name": "stdout",
     "output_type": "stream",
     "text": [
      "(785, 2400)\n"
     ]
    }
   ],
   "source": [
    "imagesT = np.transpose(images)\n",
    "print(imagesT.shape)"
   ]
  },
  {
   "cell_type": "code",
   "execution_count": 3,
   "metadata": {},
   "outputs": [
    {
     "name": "stdout",
     "output_type": "stream",
     "text": [
      "(200, 785)\n"
     ]
    }
   ],
   "source": [
    "test_images = []\n",
    "\n",
    "for i in range(200):\n",
    "    img = plt.imread(\"Test/\" + str((i+1)) + \".jpg\")\n",
    "    pixels = []\n",
    "    for j in range(28):\n",
    "        for k in range(28):\n",
    "            pixels.append(img[j,k])\n",
    "    \n",
    "    pixels.append(1)\n",
    "    test_images.append(pixels)\n",
    "    \n",
    "test_images = np.asarray(test_images)\n",
    "print(test_images.shape)"
   ]
  },
  {
   "cell_type": "code",
   "execution_count": 4,
   "metadata": {},
   "outputs": [
    {
     "name": "stdout",
     "output_type": "stream",
     "text": [
      "(785, 200)\n"
     ]
    }
   ],
   "source": [
    "test_imagesT = np.transpose(test_images)\n",
    "print(test_imagesT.shape)"
   ]
  },
  {
   "cell_type": "code",
   "execution_count": 5,
   "metadata": {},
   "outputs": [
    {
     "name": "stdout",
     "output_type": "stream",
     "text": [
      "[0. 0. 0. 0. 0. 0. 0. 0. 0. 0. 0. 0. 0. 0. 0. 0. 0. 0. 0. 0. 1. 1. 1. 1.\n",
      " 1. 1. 1. 1. 1. 1. 1. 1. 1. 1. 1. 1. 1. 1. 1. 1. 2. 2. 2. 2. 2. 2. 2. 2.\n",
      " 2. 2. 2. 2. 2. 2. 2. 2. 2. 2. 2. 2. 3. 3. 3. 3. 3. 3. 3. 3. 3. 3. 3. 3.\n",
      " 3. 3. 3. 3. 3. 3. 3. 3. 4. 4. 4. 4. 4. 4. 4. 4. 4. 4. 4. 4. 4. 4. 4. 4.\n",
      " 4. 4. 4. 4. 5. 5. 5. 5. 5. 5. 5. 5. 5. 5. 5. 5. 5. 5. 5. 5. 5. 5. 5. 5.\n",
      " 6. 6. 6. 6. 6. 6. 6. 6. 6. 6. 6. 6. 6. 6. 6. 6. 6. 6. 6. 6. 7. 7. 7. 7.\n",
      " 7. 7. 7. 7. 7. 7. 7. 7. 7. 7. 7. 7. 7. 7. 7. 7. 8. 8. 8. 8. 8. 8. 8. 8.\n",
      " 8. 8. 8. 8. 8. 8. 8. 8. 8. 8. 8. 8. 9. 9. 9. 9. 9. 9. 9. 9. 9. 9. 9. 9.\n",
      " 9. 9. 9. 9. 9. 9. 9. 9.]\n"
     ]
    }
   ],
   "source": [
    "labels = np.genfromtxt('Test/Test Labels.txt')\n",
    "print(labels)"
   ]
  },
  {
   "cell_type": "code",
   "execution_count": 6,
   "metadata": {},
   "outputs": [
    {
     "name": "stdout",
     "output_type": "stream",
     "text": [
      "(2400, 10)\n"
     ]
    }
   ],
   "source": [
    "t = np.ones((2400,10))\n",
    "t = np.negative(t)\n",
    "for i in range(10):\n",
    "    t[(i*240):((i+1)*240),i:(i+1)] = 1\n",
    "    \n",
    "print(t.shape)"
   ]
  },
  {
   "cell_type": "code",
   "execution_count": 7,
   "metadata": {},
   "outputs": [
    {
     "name": "stdout",
     "output_type": "stream",
     "text": [
      "[[0.         0.         0.         ... 0.         0.         0.00392157]\n",
      " [0.         0.         0.         ... 0.         0.         0.00392157]\n",
      " [0.         0.         0.         ... 0.         0.         0.00392157]\n",
      " ...\n",
      " [0.         0.         0.         ... 0.         0.         0.00392157]\n",
      " [0.         0.         0.         ... 0.         0.         0.00392157]\n",
      " [0.         0.         0.         ... 0.         0.         0.00392157]]\n"
     ]
    }
   ],
   "source": [
    "images = np.true_divide(images, 255)\n",
    "test_images = np.true_divide(test_images, 255)\n",
    "print(images)"
   ]
  },
  {
   "cell_type": "code",
   "execution_count": 9,
   "metadata": {},
   "outputs": [
    {
     "name": "stdout",
     "output_type": "stream",
     "text": [
      "[[1.30718954e-04 4.90196078e-05 2.02614379e-03 ... 2.22222222e-03\n",
      "  6.69934641e-04 1.47058824e-04]\n",
      " [7.02614379e-04 0.00000000e+00 2.25490196e-03 ... 1.14379085e-03\n",
      "  7.51633987e-04 2.12418301e-04]\n",
      " [5.71895425e-04 1.63398693e-04 2.10784314e-03 ... 1.78104575e-03\n",
      "  2.45098039e-04 2.94117647e-04]\n",
      " ...\n",
      " [0.00000000e+00 0.00000000e+00 0.00000000e+00 ... 0.00000000e+00\n",
      "  0.00000000e+00 4.90196078e-05]\n",
      " [0.00000000e+00 0.00000000e+00 0.00000000e+00 ... 0.00000000e+00\n",
      "  0.00000000e+00 8.16993464e-05]\n",
      " [0.00000000e+00 0.00000000e+00 0.00000000e+00 ... 0.00000000e+00\n",
      "  0.00000000e+00 8.16993464e-05]]\n"
     ]
    }
   ],
   "source": [
    "#Adding mean values for each class with respect to each pixel in the training data\n",
    "means_matrix = np.zeros((784, 10))\n",
    "for k in range(10):  \n",
    "    for i in range(784):\n",
    "        for j in range(240):\n",
    "            means_matrix[i][k] += images[(240*k) + j][i]\n",
    "        means_matrix[i][k] = means_matrix[i][k] / 240\n",
    "print(means_matrix)"
   ]
  },
  {
   "cell_type": "code",
   "execution_count": 10,
   "metadata": {},
   "outputs": [
    {
     "name": "stdout",
     "output_type": "stream",
     "text": [
      "[[0.01 0.01 0.01 ... 0.01 0.01 0.01]\n",
      " [0.01 0.01 0.01 ... 0.01 0.01 0.01]\n",
      " [0.01 0.01 0.01 ... 0.01 0.01 0.01]\n",
      " ...\n",
      " [0.01 0.01 0.01 ... 0.01 0.01 0.01]\n",
      " [0.01 0.01 0.01 ... 0.01 0.01 0.01]\n",
      " [0.01 0.01 0.01 ... 0.01 0.01 0.01]]\n"
     ]
    }
   ],
   "source": [
    "variance_matrix = np.zeros((784, 10))\n",
    "for k in range(10):\n",
    "    for i in range(784):\n",
    "        for j in range(240):\n",
    "            variance_matrix[i][k] += (images[(240*k) + j][i] - means_matrix[i][k])**2\n",
    "        variance_matrix[i][k] = variance_matrix[i][k] / 240\n",
    "        if(variance_matrix[i][k] < 0.01):\n",
    "            variance_matrix[i][k] = 0.01\n",
    "print(variance_matrix)"
   ]
  },
  {
   "cell_type": "code",
   "execution_count": 11,
   "metadata": {},
   "outputs": [],
   "source": [
    "def calculate_guassian(x,mean,variance):\n",
    "    guassian_value = (1 / np.sqrt(2 * np.pi * variance)) * math.exp((-1) * ((x-mean)**2 / (2 * variance)))\n",
    "    return guassian_value"
   ]
  },
  {
   "cell_type": "code",
   "execution_count": 18,
   "metadata": {},
   "outputs": [
    {
     "name": "stderr",
     "output_type": "stream",
     "text": [
      "c:\\users\\ibram medhat\\appdata\\local\\programs\\python\\python36\\lib\\site-packages\\ipykernel_launcher.py:5: RuntimeWarning: overflow encountered in double_scalars\n",
      "  \"\"\"\n"
     ]
    },
    {
     "data": {
      "image/png": "[encoded data removed]",
      "text/plain": [
       "<Figure size 432x288 with 2 Axes>"
      ]
     },
     "metadata": {
      "needs_background": "light"
     },
     "output_type": "display_data"
    }
   ],
   "source": [
    "probabilities_matrix = np.ones((200, 10))\n",
    "for k in range(10):    \n",
    "    for i in range(200):\n",
    "        for j in range(784):\n",
    "            probabilities_matrix[i][k] = probabilities_matrix[i][k] * calculate_guassian(test_images[i][j],means_matrix[j][k],variance_matrix[j][k])\n",
    "prob_matrix_transpose = np.transpose(probabilities_matrix)\n",
    "cm = np.zeros((10,10))\n",
    "\n",
    "\n",
    "\n",
    "for i in range(200):\n",
    "    predict = int(np.where(prob_matrix_transpose == np.amax(prob_matrix_transpose[0:,i:i+1]))[0][0])\n",
    "    label = int(labels[i])\n",
    "    cm[label:label+1, predict:predict+1] += 1\n",
    "\n",
    "plt.figure()\n",
    "plt.imshow(cm)\n",
    "plt.title(\"Confusion Matrix\")\n",
    "plt.colorbar()\n",
    "plt.tight_layout()\n",
    "    \n",
    "for i in range(10):\n",
    "    for j in range(10):\n",
    "        plt.text(j, i, int(cm[i, j]), ha=\"center\", va=\"center\", color=\"w\")\n",
    "\n",
    "plt.savefig('Confusion-Guass.jpg')"
   ]
  },
  {
   "cell_type": "code",
   "execution_count": null,
   "metadata": {},
   "outputs": [],
   "source": []
  }
 ],
 "metadata": {
  "kernelspec": {
   "display_name": "Python 3",
   "language": "python",
   "name": "python3"
  },
  "language_info": {
   "codemirror_mode": {
    "name": "ipython",
    "version": 3
   },
   "file_extension": ".py",
   "mimetype": "text/x-python",
   "name": "python",
   "nbconvert_exporter": "python",
   "pygments_lexer": "ipython3",
   "version": "3.6.5"
  }
 },
 "nbformat": 4,
 "nbformat_minor": 2
}
